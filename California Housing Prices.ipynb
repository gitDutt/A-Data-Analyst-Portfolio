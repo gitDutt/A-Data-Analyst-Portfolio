{
 "cells": [
  {
   "cell_type": "markdown",
   "id": "gothic-console",
   "metadata": {},
   "source": [
    "# Predicting California House Pricing"
   ]
  },
  {
   "cell_type": "markdown",
   "id": "fifth-yugoslavia",
   "metadata": {
    "scrolled": true
   },
   "source": [
    "This project is inspired by a git repository of Sejal Sharma, https://github.com/sajal2692/data-science-portfolio."
   ]
  }
 ],
 "metadata": {
  "kernelspec": {
   "display_name": "Python 3",
   "language": "python",
   "name": "python3"
  },
  "language_info": {
   "codemirror_mode": {
    "name": "ipython",
    "version": 3
   },
   "file_extension": ".py",
   "mimetype": "text/x-python",
   "name": "python",
   "nbconvert_exporter": "python",
   "pygments_lexer": "ipython3",
   "version": "3.8.5"
  }
 },
 "nbformat": 4,
 "nbformat_minor": 5
}
